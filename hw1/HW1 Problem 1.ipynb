{
 "cells": [
  {
   "cell_type": "code",
   "execution_count": 113,
   "metadata": {
    "collapsed": true
   },
   "outputs": [],
   "source": [
    "import pandas as pd\n",
    "%matplotlib inline"
   ]
  },
  {
   "cell_type": "markdown",
   "metadata": {},
   "source": [
    "# Data source\n",
    "https://data.cityofchicago.org/\n",
    "\n",
    "Applied filter when downloading datasets from Chicago Open Data Portal:\n",
    "service request completion date between 1/1/2016 - 12/31/2016"
   ]
  },
  {
   "cell_type": "markdown",
   "metadata": {},
   "source": [
    "# Task 1: Download and Merge Data"
   ]
  },
  {
   "cell_type": "code",
   "execution_count": 4,
   "metadata": {
    "collapsed": false
   },
   "outputs": [],
   "source": [
    "graffiti = pd.read_csv('311_Service_Requests_-_Graffiti_Removal.csv', index_col = 'Service Request Number')"
   ]
  },
  {
   "cell_type": "code",
   "execution_count": 16,
   "metadata": {
    "collapsed": false,
    "scrolled": false
   },
   "outputs": [
    {
     "data": {
      "text/plain": [
       "Index(['creation date', 'status', 'completion date', 'type of service request',\n",
       "       'what type of surface is the graffiti on?',\n",
       "       'where is the graffiti located?', 'street address', 'zip code',\n",
       "       'x coordinate', 'y coordinate', 'ward', 'police district',\n",
       "       'community area', 'ssa', 'latitude', 'longitude', 'location'],\n",
       "      dtype='object')"
      ]
     },
     "execution_count": 16,
     "metadata": {},
     "output_type": "execute_result"
    }
   ],
   "source": [
    "graffiti.columns = [x.lower() for x in graffiti.columns]\n",
    "graffiti.columns"
   ]
  },
  {
   "cell_type": "code",
   "execution_count": 104,
   "metadata": {
    "collapsed": false
   },
   "outputs": [
    {
     "name": "stderr",
     "output_type": "stream",
     "text": [
      "/usr/local/lib/python3.4/dist-packages/ipykernel/__main__.py:4: SettingWithCopyWarning: \n",
      "A value is trying to be set on a copy of a slice from a DataFrame.\n",
      "Try using .loc[row_indexer,col_indexer] = value instead\n",
      "\n",
      "See the caveats in the documentation: http://pandas.pydata.org/pandas-docs/stable/indexing.html#indexing-view-versus-copy\n"
     ]
    }
   ],
   "source": [
    "headers = ['creation_date', 'status', 'completion_date', 'type', 'zip', 'ward', 'police_district', 'community_area', 'lat', 'lon']\n",
    "graffiti_sub = graffiti[['creation date', 'status', 'completion date', 'type of service request', 'zip code', 'ward', 'police district', 'community area', 'latitude', 'longitude']]\n",
    "graffiti_sub.columns = headers\n",
    "graffiti_sub['file'] = 'graffiti'"
   ]
  },
  {
   "cell_type": "code",
   "execution_count": 10,
   "metadata": {
    "collapsed": true
   },
   "outputs": [],
   "source": [
    "buildings = pd.read_csv('311_Service_Requests_-_Vacant_and_Abandoned_Buildings_Reported.csv', index_col = 'SERVICE REQUEST NUMBER')"
   ]
  },
  {
   "cell_type": "code",
   "execution_count": 70,
   "metadata": {
    "collapsed": false
   },
   "outputs": [
    {
     "data": {
      "text/plain": [
       "Index(['service request type', 'date service request was received',\n",
       "       'location of building on the lot (if garage, change type code to bgd).',\n",
       "       'is the building dangerous or hazardous?',\n",
       "       'is building open or boarded?',\n",
       "       'if the building is open, where is the entry point?',\n",
       "       'is the building currently vacant or occupied?',\n",
       "       'is the building vacant due to fire?',\n",
       "       'any people using property? (homeless, childen, gangs)',\n",
       "       'address street number', 'address street direction',\n",
       "       'address street name', 'address street suffix', 'zip code',\n",
       "       'x coordinate', 'y coordinate', 'ward', 'police district',\n",
       "       'community area', 'latitude', 'longitude', 'location'],\n",
       "      dtype='object')"
      ]
     },
     "execution_count": 70,
     "metadata": {},
     "output_type": "execute_result"
    }
   ],
   "source": [
    "buildings.columns = [x.lower() for x in buildings.columns]\n",
    "buildings.columns\n",
    "# Note that buildings data does not include completion date or status, so we \n",
    "# are unable to track whether a the service request was completed"
   ]
  },
  {
   "cell_type": "code",
   "execution_count": 97,
   "metadata": {
    "collapsed": false
   },
   "outputs": [
    {
     "name": "stderr",
     "output_type": "stream",
     "text": [
      "/usr/local/lib/python3.4/dist-packages/ipykernel/__main__.py:4: SettingWithCopyWarning: \n",
      "A value is trying to be set on a copy of a slice from a DataFrame.\n",
      "Try using .loc[row_indexer,col_indexer] = value instead\n",
      "\n",
      "See the caveats in the documentation: http://pandas.pydata.org/pandas-docs/stable/indexing.html#indexing-view-versus-copy\n"
     ]
    }
   ],
   "source": [
    "buildings_headers = ['creation_date', 'type', 'zip', 'ward', 'police_district', 'community_area', 'lat', 'lon']\n",
    "buildings_sub = buildings[['date service request was received', 'service request type', 'zip code', 'ward', 'police district', 'community area', 'latitude', 'longitude']]\n",
    "buildings_sub.columns = buildings_headers\n",
    "buildings_sub['file'] = 'buildings'"
   ]
  },
  {
   "cell_type": "code",
   "execution_count": 7,
   "metadata": {
    "collapsed": true
   },
   "outputs": [],
   "source": [
    "potholes = pd.read_csv('311_Service_Requests_-_Pot_Holes_Reported.csv', index_col = 'SERVICE REQUEST NUMBER')"
   ]
  },
  {
   "cell_type": "code",
   "execution_count": 18,
   "metadata": {
    "collapsed": false
   },
   "outputs": [
    {
     "data": {
      "text/plain": [
       "Index(['creation date', 'status', 'completion date', 'type of service request',\n",
       "       'current activity', 'most recent action',\n",
       "       'number of potholes filled on block', 'street address', 'zip',\n",
       "       'x coordinate', 'y coordinate', 'ward', 'police district',\n",
       "       'community area', 'ssa', 'latitude', 'longitude', 'location'],\n",
       "      dtype='object')"
      ]
     },
     "execution_count": 18,
     "metadata": {},
     "output_type": "execute_result"
    }
   ],
   "source": [
    "potholes.columns = [x.lower() for x in potholes.columns]\n",
    "potholes.columns"
   ]
  },
  {
   "cell_type": "code",
   "execution_count": 96,
   "metadata": {
    "collapsed": false
   },
   "outputs": [
    {
     "name": "stderr",
     "output_type": "stream",
     "text": [
      "/usr/local/lib/python3.4/dist-packages/ipykernel/__main__.py:3: SettingWithCopyWarning: \n",
      "A value is trying to be set on a copy of a slice from a DataFrame.\n",
      "Try using .loc[row_indexer,col_indexer] = value instead\n",
      "\n",
      "See the caveats in the documentation: http://pandas.pydata.org/pandas-docs/stable/indexing.html#indexing-view-versus-copy\n",
      "  app.launch_new_instance()\n"
     ]
    }
   ],
   "source": [
    "potholes_sub = potholes[['creation date', 'status', 'completion date', 'type of service request', 'zip', 'ward', 'police district', 'community area', 'latitude', 'longitude']]\n",
    "potholes_sub.columns = headers\n",
    "potholes_sub['file'] = 'potholes'"
   ]
  },
  {
   "cell_type": "code",
   "execution_count": 12,
   "metadata": {
    "collapsed": true
   },
   "outputs": [],
   "source": [
    "sanitation = pd.read_csv('311_Service_Requests_-_Sanitation_Code_Complaints.csv', index_col = 'Service Request Number')"
   ]
  },
  {
   "cell_type": "code",
   "execution_count": 19,
   "metadata": {
    "collapsed": false
   },
   "outputs": [
    {
     "data": {
      "text/plain": [
       "Index(['creation date', 'status', 'completion date', 'type of service request',\n",
       "       'what is the nature of this code violation?', 'street address',\n",
       "       'zip code', 'x coordinate', 'y coordinate', 'ward', 'police district',\n",
       "       'community area', 'latitude', 'longitude', 'location'],\n",
       "      dtype='object')"
      ]
     },
     "execution_count": 19,
     "metadata": {},
     "output_type": "execute_result"
    }
   ],
   "source": [
    "sanitation.columns = [x.lower() for x in sanitation.columns]\n",
    "sanitation.columns"
   ]
  },
  {
   "cell_type": "code",
   "execution_count": 105,
   "metadata": {
    "collapsed": false
   },
   "outputs": [
    {
     "name": "stderr",
     "output_type": "stream",
     "text": [
      "/usr/local/lib/python3.4/dist-packages/ipykernel/__main__.py:3: SettingWithCopyWarning: \n",
      "A value is trying to be set on a copy of a slice from a DataFrame.\n",
      "Try using .loc[row_indexer,col_indexer] = value instead\n",
      "\n",
      "See the caveats in the documentation: http://pandas.pydata.org/pandas-docs/stable/indexing.html#indexing-view-versus-copy\n",
      "  app.launch_new_instance()\n"
     ]
    }
   ],
   "source": [
    "sanitation_sub = sanitation[['creation date', 'status', 'completion date', 'what is the nature of this code violation?', 'zip code', 'ward', 'police district', 'community area', 'latitude', 'longitude']]\n",
    "sanitation_sub.columns = headers\n",
    "sanitation_sub['file'] = 'sanitation'"
   ]
  },
  {
   "cell_type": "code",
   "execution_count": 106,
   "metadata": {
    "collapsed": false,
    "scrolled": true
   },
   "outputs": [
    {
     "data": {
      "text/plain": [
       "Index(['community_area', 'completion_date', 'creation_date', 'file', 'lat',\n",
       "       'lon', 'police_district', 'status', 'type', 'ward', 'zip'],\n",
       "      dtype='object')"
      ]
     },
     "execution_count": 106,
     "metadata": {},
     "output_type": "execute_result"
    }
   ],
   "source": [
    "df = pd.concat([graffiti_sub, buildings_sub, potholes_sub, sanitation_sub])\n",
    "df.columns"
   ]
  },
  {
   "cell_type": "markdown",
   "metadata": {
    "collapsed": true
   },
   "source": [
    "# Task 2: Summary statistics"
   ]
  },
  {
   "cell_type": "code",
   "execution_count": 107,
   "metadata": {
    "collapsed": false
   },
   "outputs": [
    {
     "data": {
      "text/plain": [
       "Index(['community_area', 'completion_date', 'creation_date', 'file', 'lat',\n",
       "       'lon', 'police_district', 'status', 'type', 'ward', 'zip'],\n",
       "      dtype='object')"
      ]
     },
     "execution_count": 107,
     "metadata": {},
     "output_type": "execute_result"
    }
   ],
   "source": [
    "df.columns"
   ]
  },
  {
   "cell_type": "code",
   "execution_count": 136,
   "metadata": {
    "collapsed": false
   },
   "outputs": [
    {
     "data": {
      "text/plain": [
       "array(['Completed', nan, 'Open'], dtype=object)"
      ]
     },
     "execution_count": 136,
     "metadata": {},
     "output_type": "execute_result"
    }
   ],
   "source": [
    "# disregard duplicate requests\n",
    "df = df.loc[(df['status'] != 'Open - Dup') & (df['status'] != 'Completed - Dup')]\n",
    "df['status'].unique()"
   ]
  },
  {
   "cell_type": "code",
   "execution_count": 137,
   "metadata": {
    "collapsed": false
   },
   "outputs": [
    {
     "name": "stderr",
     "output_type": "stream",
     "text": [
      "/usr/local/lib/python3.4/dist-packages/ipykernel/__main__.py:1: FutureWarning: currently extract(expand=None) means expand=False (return Index/Series/DataFrame) but in a future version of pandas this will be changed to expand=True (return DataFrame)\n",
      "  if __name__ == '__main__':\n"
     ]
    }
   ],
   "source": [
    "df['creation_month'] = df['creation_date'].str.extract('(\\d\\d)')"
   ]
  },
  {
   "cell_type": "code",
   "execution_count": 109,
   "metadata": {
    "collapsed": false,
    "scrolled": true
   },
   "outputs": [
    {
     "name": "stderr",
     "output_type": "stream",
     "text": [
      "/usr/local/lib/python3.4/dist-packages/ipykernel/__main__.py:1: FutureWarning: currently extract(expand=None) means expand=False (return Index/Series/DataFrame) but in a future version of pandas this will be changed to expand=True (return DataFrame)\n",
      "  if __name__ == '__main__':\n"
     ]
    }
   ],
   "source": [
    "df['completion_month'] = df['completion_date'].str.extract('(\\d\\d)')"
   ]
  },
  {
   "cell_type": "code",
   "execution_count": 119,
   "metadata": {
    "collapsed": false,
    "scrolled": false
   },
   "outputs": [
    {
     "data": {
      "text/plain": [
       "01    14338\n",
       "02    17085\n",
       "03    19198\n",
       "04    19803\n",
       "05    20517\n",
       "06    19141\n",
       "07    15975\n",
       "08    18137\n",
       "09    14104\n",
       "10    14274\n",
       "11    13042\n",
       "12    11965\n",
       "Name: creation_month, dtype: int64"
      ]
     },
     "execution_count": 119,
     "metadata": {},
     "output_type": "execute_result"
    }
   ],
   "source": [
    "month = df['creation_month'].value_counts().sort_index()\n",
    "month"
   ]
  },
  {
   "cell_type": "code",
   "execution_count": 120,
   "metadata": {
    "collapsed": false
   },
   "outputs": [
    {
     "data": {
      "text/plain": [
       "<matplotlib.axes.AxesSubplot at 0x7fd7e3db45f8>"
      ]
     },
     "execution_count": 120,
     "metadata": {},
     "output_type": "execute_result"
    },
    {
     "data": {
      "image/png": "[encoded data removed]",
      "text/plain": [
       "<matplotlib.figure.Figure at 0x7fd7e3d84ef0>"
      ]
     },
     "metadata": {},
     "output_type": "display_data"
    }
   ],
   "source": [
    "month.plot('bar')"
   ]
  },
  {
   "cell_type": "code",
   "execution_count": 111,
   "metadata": {
    "collapsed": false
   },
   "outputs": [
    {
     "data": {
      "text/plain": [
       "file        creation_month\n",
       "buildings   01                  190\n",
       "            02                  272\n",
       "            03                  358\n",
       "            04                  477\n",
       "            05                  602\n",
       "            06                  512\n",
       "            07                  437\n",
       "            08                  521\n",
       "            09                  401\n",
       "            10                  317\n",
       "            11                  250\n",
       "            12                  135\n",
       "graffiti    01                 9446\n",
       "            02                10184\n",
       "            03                10572\n",
       "            04                10711\n",
       "            05                10982\n",
       "            06                10349\n",
       "            07                 9591\n",
       "            08                11863\n",
       "            09                 9312\n",
       "            10                 9580\n",
       "            11                 9743\n",
       "            12                 8128\n",
       "potholes    01                 3688\n",
       "            02                 5515\n",
       "            03                 6727\n",
       "            04                 7126\n",
       "            05                 6592\n",
       "            06                 5562\n",
       "            07                 3646\n",
       "            08                 3336\n",
       "            09                 2533\n",
       "            10                 2377\n",
       "            11                 1751\n",
       "            12                 2654\n",
       "sanitation  01                 1014\n",
       "            02                 1114\n",
       "            03                 1541\n",
       "            04                 1489\n",
       "            05                 2341\n",
       "            06                 2718\n",
       "            07                 2301\n",
       "            08                 2417\n",
       "            09                 1858\n",
       "            10                 2000\n",
       "            11                 1298\n",
       "            12                 1048\n",
       "dtype: int64"
      ]
     },
     "execution_count": 111,
     "metadata": {},
     "output_type": "execute_result"
    }
   ],
   "source": [
    "month_category = df.groupby(['file', 'creation_month']).size()\n",
    "month_category"
   ]
  },
  {
   "cell_type": "code",
   "execution_count": 125,
   "metadata": {
    "collapsed": false
   },
   "outputs": [
    {
     "data": {
      "text/plain": [
       "graffiti      120461\n",
       "potholes       51507\n",
       "sanitation     21139\n",
       "buildings       4472\n",
       "Name: file, dtype: int64"
      ]
     },
     "execution_count": 125,
     "metadata": {},
     "output_type": "execute_result"
    }
   ],
   "source": [
    "category = df['file'].value_counts()\n",
    "category"
   ]
  },
  {
   "cell_type": "code",
   "execution_count": 127,
   "metadata": {
    "collapsed": false
   },
   "outputs": [
    {
     "data": {
      "text/plain": [
       "Front                  38212\n",
       "Side                   16898\n",
       "Pole                   11358\n",
       "Garage                  9893\n",
       "Rear                    8337\n",
       "Traffic Control Box     5407\n",
       "Alley                   5330\n",
       "Door                    4377\n",
       "Sign                    4358\n",
       "Dumpster                3805\n",
       "Fence                   3310\n",
       "Viaduct                 2296\n",
       "Garbage Cart            1993\n",
       "Mail Box                1417\n",
       "Newspaper Box           1379\n",
       "Bench                    790\n",
       "Express Way Job          536\n",
       "Overpass                 284\n",
       "Hydrant                   76\n",
       "Phone                     71\n",
       "Name: where is the graffiti located?, dtype: int64"
      ]
     },
     "execution_count": 127,
     "metadata": {},
     "output_type": "execute_result"
    }
   ],
   "source": [
    "# graffiti subcateogries\n",
    "graffiti_subcat = graffiti['where is the graffiti located?'].value_counts()\n",
    "graffiti_subcat"
   ]
  },
  {
   "cell_type": "code",
   "execution_count": null,
   "metadata": {
    "collapsed": true
   },
   "outputs": [],
   "source": [
    "# buildings subcategories"
   ]
  },
  {
   "cell_type": "code",
   "execution_count": null,
   "metadata": {
    "collapsed": true
   },
   "outputs": [],
   "source": []
  },
  {
   "cell_type": "markdown",
   "metadata": {},
   "source": [
    "# Task 3: Interesting Observations"
   ]
  },
  {
   "cell_type": "markdown",
   "metadata": {},
   "source": [
    "The highest number of service requests The spring and summer months "
   ]
  },
  {
   "cell_type": "code",
   "execution_count": null,
   "metadata": {
    "collapsed": true
   },
   "outputs": [],
   "source": []
  }
 ],
 "metadata": {
  "kernelspec": {
   "display_name": "Python 3",
   "language": "python",
   "name": "python3"
  },
  "language_info": {
   "codemirror_mode": {
    "name": "ipython",
    "version": 3
   },
   "file_extension": ".py",
   "mimetype": "text/x-python",
   "name": "python",
   "nbconvert_exporter": "python",
   "pygments_lexer": "ipython3",
   "version": "3.4.3"
  }
 },
 "nbformat": 4,
 "nbformat_minor": 1
}
