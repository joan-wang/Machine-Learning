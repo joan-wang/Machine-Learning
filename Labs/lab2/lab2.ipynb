{
 "cells": [
  {
   "cell_type": "markdown",
   "metadata": {},
   "source": [
    "# Lab 2: More 311 Data exploration\n",
    "\n",
    "In HW1, we did some basic data exploration and visualization. In this lab, we will continue digging through the 311 datasets for more data wrangling practice."
   ]
  },
  {
   "cell_type": "markdown",
   "metadata": {},
   "source": [
    "## Git and Github\n",
    "\n",
    "Before we get started, let's get set up with git and github on our computers\n",
    "https://github.com/dssg/hitchhikers-guide/tree/master/curriculum/git-and-github/basic_git_tutorial is a good tutorial that you should go through if you're not comfortable with git and github.\n",
    "Make sure you set up an ssh key and add it to your github account to make it easy to push changes."
   ]
  },
  {
   "cell_type": "code",
   "execution_count": 1,
   "metadata": {
    "collapsed": true
   },
   "outputs": [],
   "source": [
    "import pandas as pd\n",
    "import numpy as np\n",
    "import matplotlib.pyplot as plt\n",
    "%matplotlib inline"
   ]
  },
  {
   "cell_type": "code",
   "execution_count": 2,
   "metadata": {
    "collapsed": false
   },
   "outputs": [
    {
     "data": {
      "text/plain": [
       "Index(['Creation Date', 'Status', 'Completion Date', 'Type of Service Request',\n",
       "       'What Type of Surface is the Graffiti on?',\n",
       "       'Where is the Graffiti located?', 'Street Address', 'ZIP Code',\n",
       "       'X Coordinate', 'Y Coordinate', 'Ward', 'Police District',\n",
       "       'Community Area', 'SSA', 'Latitude', 'Longitude', 'Location'],\n",
       "      dtype='object')"
      ]
     },
     "execution_count": 2,
     "metadata": {},
     "output_type": "execute_result"
    }
   ],
   "source": [
    "# Download and Load datasets\n",
    "graffiti = pd.read_csv('311_Service_Requests_-_Graffiti_Removal.csv', index_col = 'Service Request Number')\n",
    "graffiti.columns"
   ]
  },
  {
   "cell_type": "code",
   "execution_count": 3,
   "metadata": {
    "collapsed": false,
    "scrolled": true
   },
   "outputs": [
    {
     "data": {
      "text/plain": [
       "Index(['SERVICE REQUEST TYPE', 'DATE SERVICE REQUEST WAS RECEIVED',\n",
       "       'LOCATION OF BUILDING ON THE LOT (IF GARAGE, CHANGE TYPE CODE TO BGD).',\n",
       "       'IS THE BUILDING DANGEROUS OR HAZARDOUS?',\n",
       "       'IS BUILDING OPEN OR BOARDED?',\n",
       "       'IF THE BUILDING IS OPEN, WHERE IS THE ENTRY POINT?',\n",
       "       'IS THE BUILDING CURRENTLY VACANT OR OCCUPIED?',\n",
       "       'IS THE BUILDING VACANT DUE TO FIRE?',\n",
       "       'ANY PEOPLE USING PROPERTY? (HOMELESS, CHILDEN, GANGS)',\n",
       "       'ADDRESS STREET NUMBER', 'ADDRESS STREET DIRECTION',\n",
       "       'ADDRESS STREET NAME', 'ADDRESS STREET SUFFIX', 'ZIP CODE',\n",
       "       'X COORDINATE', 'Y COORDINATE', 'Ward', 'Police District',\n",
       "       'Community Area', 'LATITUDE', 'LONGITUDE', 'Location'],\n",
       "      dtype='object')"
      ]
     },
     "execution_count": 3,
     "metadata": {},
     "output_type": "execute_result"
    }
   ],
   "source": [
    "buildings = pd.read_csv('311_Service_Requests_-_Vacant_and_Abandoned_Buildings_Reported.csv', index_col = 'SERVICE REQUEST NUMBER')\n",
    "buildings.columns"
   ]
  },
  {
   "cell_type": "code",
   "execution_count": 4,
   "metadata": {
    "collapsed": false
   },
   "outputs": [
    {
     "data": {
      "text/plain": [
       "Index(['CREATION DATE', 'STATUS', 'COMPLETION DATE', 'TYPE OF SERVICE REQUEST',\n",
       "       'CURRENT ACTIVITY', 'MOST RECENT ACTION',\n",
       "       'NUMBER OF POTHOLES FILLED ON BLOCK', 'STREET ADDRESS', 'ZIP',\n",
       "       'X COORDINATE', 'Y COORDINATE', 'Ward', 'Police District',\n",
       "       'Community Area', 'SSA', 'LATITUDE', 'LONGITUDE', 'LOCATION'],\n",
       "      dtype='object')"
      ]
     },
     "execution_count": 4,
     "metadata": {},
     "output_type": "execute_result"
    }
   ],
   "source": [
    "potholes = pd.read_csv('311_Service_Requests_-_Pot_Holes_Reported.csv', index_col = 'SERVICE REQUEST NUMBER')\n",
    "potholes.columns"
   ]
  },
  {
   "cell_type": "code",
   "execution_count": 5,
   "metadata": {
    "collapsed": false
   },
   "outputs": [
    {
     "data": {
      "text/plain": [
       "Index(['Creation Date', 'Status', 'Completion Date', 'Type of Service Request',\n",
       "       'What is the Nature of this Code Violation?', 'Street Address',\n",
       "       'ZIP Code', 'X Coordinate', 'Y Coordinate', 'Ward', 'Police District',\n",
       "       'Community Area', 'Latitude', 'Longitude', 'Location'],\n",
       "      dtype='object')"
      ]
     },
     "execution_count": 5,
     "metadata": {},
     "output_type": "execute_result"
    }
   ],
   "source": [
    "sanitation = pd.read_csv('311_Service_Requests_-_Sanitation_Code_Complaints.csv', index_col = 'Service Request Number')\n",
    "sanitation.columns"
   ]
  },
  {
   "cell_type": "markdown",
   "metadata": {},
   "source": [
    "## Spatiotemporal data\n",
    "\n",
    "A lot of policy problems involve data related to some location (house, business, block, zipcode, city, etc.) at some time. It is useful to know how to do analysis on spatiotemporal data. The analysis below will help you get more comfortable with analyzing data with spatial and temporal components"
   ]
  },
  {
   "cell_type": "markdown",
   "metadata": {},
   "source": [
    "### Completion Times\n",
    "A natural thing to ask about 311 requests is how long does it take 311 requests to be completed? Do response times vary much between the different 311 request types? Plot the distribution of response times by each request type."
   ]
  },
  {
   "cell_type": "code",
   "execution_count": 6,
   "metadata": {
    "collapsed": false
   },
   "outputs": [
    {
     "data": {
      "text/plain": [
       "(array([  1.20386000e+05,   7.10000000e+01,   2.00000000e+00,\n",
       "          1.00000000e+00,   0.00000000e+00,   0.00000000e+00,\n",
       "          0.00000000e+00,   0.00000000e+00,   0.00000000e+00,\n",
       "          0.00000000e+00,   0.00000000e+00,   0.00000000e+00,\n",
       "          0.00000000e+00,   0.00000000e+00,   0.00000000e+00,\n",
       "          0.00000000e+00,   0.00000000e+00,   0.00000000e+00,\n",
       "          0.00000000e+00,   0.00000000e+00,   0.00000000e+00,\n",
       "          0.00000000e+00,   0.00000000e+00,   0.00000000e+00,\n",
       "          0.00000000e+00,   0.00000000e+00,   0.00000000e+00,\n",
       "          0.00000000e+00,   0.00000000e+00,   0.00000000e+00,\n",
       "          0.00000000e+00,   0.00000000e+00,   0.00000000e+00,\n",
       "          0.00000000e+00,   0.00000000e+00,   0.00000000e+00,\n",
       "          0.00000000e+00,   0.00000000e+00,   0.00000000e+00,\n",
       "          0.00000000e+00,   0.00000000e+00,   0.00000000e+00,\n",
       "          0.00000000e+00,   0.00000000e+00,   0.00000000e+00,\n",
       "          0.00000000e+00,   0.00000000e+00,   0.00000000e+00,\n",
       "          0.00000000e+00,   1.00000000e+00]),\n",
       " array([   0. ,    6.6,   13.2,   19.8,   26.4,   33. ,   39.6,   46.2,\n",
       "          52.8,   59.4,   66. ,   72.6,   79.2,   85.8,   92.4,   99. ,\n",
       "         105.6,  112.2,  118.8,  125.4,  132. ,  138.6,  145.2,  151.8,\n",
       "         158.4,  165. ,  171.6,  178.2,  184.8,  191.4,  198. ,  204.6,\n",
       "         211.2,  217.8,  224.4,  231. ,  237.6,  244.2,  250.8,  257.4,\n",
       "         264. ,  270.6,  277.2,  283.8,  290.4,  297. ,  303.6,  310.2,\n",
       "         316.8,  323.4,  330. ]),\n",
       " <a list of 50 Patch objects>)"
      ]
     },
     "execution_count": 6,
     "metadata": {},
     "output_type": "execute_result"
    },
    {
     "data": {
      "image/png": "[encoded data removed]",
      "text/plain": [
       "<matplotlib.figure.Figure at 0x7fba323a67f0>"
      ]
     },
     "metadata": {},
     "output_type": "display_data"
    }
   ],
   "source": [
    "import numpy as np\n",
    "graffiti['Completion Date'] = pd.to_datetime(graffiti['Completion Date'], format='%m/%d/%Y')\n",
    "graffiti['Creation Date'] = pd.to_datetime(graffiti['Creation Date'], format='%m/%d/%Y')\n",
    "graffiti['response_time'] = graffiti['Completion Date'] - graffiti['Creation Date']\n",
    "graffiti['response_time'] = (graffiti['response_time'] / np.timedelta64(1, 'D')).astype(int)\n",
    "\n",
    "plt.hist(graffiti['response_time'].dropna(), bins=50)"
   ]
  },
  {
   "cell_type": "code",
   "execution_count": 7,
   "metadata": {
    "collapsed": false
   },
   "outputs": [
    {
     "data": {
      "text/plain": [
       "(array([  2.29230000e+04,   6.55800000e+03,   3.77900000e+03,\n",
       "          2.44400000e+03,   1.85700000e+03,   1.71300000e+03,\n",
       "          1.20300000e+03,   1.35300000e+03,   1.09500000e+03,\n",
       "          9.93000000e+02,   8.44000000e+02,   6.74000000e+02,\n",
       "          5.53000000e+02,   6.74000000e+02,   4.73000000e+02,\n",
       "          3.93000000e+02,   3.17000000e+02,   2.30000000e+02,\n",
       "          2.03000000e+02,   1.73000000e+02,   1.20000000e+02,\n",
       "          1.24000000e+02,   1.42000000e+02,   1.16000000e+02,\n",
       "          5.00000000e+01,   7.40000000e+01,   6.10000000e+01,\n",
       "          5.70000000e+01,   6.50000000e+01,   6.70000000e+01,\n",
       "          5.10000000e+01,   3.40000000e+01,   4.30000000e+01,\n",
       "          2.50000000e+01,   1.10000000e+01,   1.40000000e+01,\n",
       "          3.00000000e+00,   5.00000000e+00,   0.00000000e+00,\n",
       "          2.00000000e+00,   0.00000000e+00,   1.00000000e+00,\n",
       "          1.00000000e+00,   3.00000000e+00,   5.00000000e+00,\n",
       "          1.00000000e+00,   3.00000000e+00,   1.00000000e+00,\n",
       "          0.00000000e+00,   1.00000000e+00]),\n",
       " array([   0.  ,    6.84,   13.68,   20.52,   27.36,   34.2 ,   41.04,\n",
       "          47.88,   54.72,   61.56,   68.4 ,   75.24,   82.08,   88.92,\n",
       "          95.76,  102.6 ,  109.44,  116.28,  123.12,  129.96,  136.8 ,\n",
       "         143.64,  150.48,  157.32,  164.16,  171.  ,  177.84,  184.68,\n",
       "         191.52,  198.36,  205.2 ,  212.04,  218.88,  225.72,  232.56,\n",
       "         239.4 ,  246.24,  253.08,  259.92,  266.76,  273.6 ,  280.44,\n",
       "         287.28,  294.12,  300.96,  307.8 ,  314.64,  321.48,  328.32,\n",
       "         335.16,  342.  ]),\n",
       " <a list of 50 Patch objects>)"
      ]
     },
     "execution_count": 7,
     "metadata": {},
     "output_type": "execute_result"
    },
    {
     "data": {
      "image/png": "[encoded data removed]",
      "text/plain": [
       "<matplotlib.figure.Figure at 0x7fba323a6438>"
      ]
     },
     "metadata": {},
     "output_type": "display_data"
    }
   ],
   "source": [
    "potholes['COMPLETION DATE'] = pd.to_datetime(potholes['COMPLETION DATE'], format='%m/%d/%Y')\n",
    "potholes['CREATION DATE'] = pd.to_datetime(potholes['CREATION DATE'], format='%m/%d/%Y')\n",
    "potholes['response_time'] = potholes['COMPLETION DATE'] - potholes['CREATION DATE']\n",
    "potholes['response_time'] = (potholes['response_time'] / np.timedelta64(1, 'D')).astype(float)\n",
    "\n",
    "plt.hist(potholes['response_time'].dropna(), bins=50)"
   ]
  },
  {
   "cell_type": "code",
   "execution_count": 8,
   "metadata": {
    "collapsed": false
   },
   "outputs": [
    {
     "data": {
      "text/plain": [
       "(array([  9.53700000e+03,   4.08700000e+03,   1.61400000e+03,\n",
       "          1.50900000e+03,   1.15300000e+03,   7.19000000e+02,\n",
       "          6.91000000e+02,   5.80000000e+02,   1.99000000e+02,\n",
       "          2.61000000e+02,   1.75000000e+02,   1.03000000e+02,\n",
       "          9.30000000e+01,   6.90000000e+01,   2.60000000e+01,\n",
       "          2.70000000e+01,   2.60000000e+01,   8.00000000e+00,\n",
       "          1.10000000e+01,   1.20000000e+01,   7.00000000e+00,\n",
       "          1.30000000e+01,   7.00000000e+00,   6.00000000e+00,\n",
       "          5.00000000e+00,   4.00000000e+00,   3.00000000e+00,\n",
       "          1.20000000e+01,   1.60000000e+01,   5.00000000e+00,\n",
       "          1.30000000e+01,   7.00000000e+00,   8.00000000e+00,\n",
       "          1.10000000e+01,   1.40000000e+01,   3.00000000e+00,\n",
       "          6.00000000e+00,   1.20000000e+01,   8.00000000e+00,\n",
       "          1.40000000e+01,   7.00000000e+00,   0.00000000e+00,\n",
       "          1.00000000e+00,   2.00000000e+00,   2.00000000e+00,\n",
       "          4.00000000e+00,   1.00000000e+00,   1.00000000e+00,\n",
       "          0.00000000e+00,   1.00000000e+00]),\n",
       " array([   0.  ,    3.66,    7.32,   10.98,   14.64,   18.3 ,   21.96,\n",
       "          25.62,   29.28,   32.94,   36.6 ,   40.26,   43.92,   47.58,\n",
       "          51.24,   54.9 ,   58.56,   62.22,   65.88,   69.54,   73.2 ,\n",
       "          76.86,   80.52,   84.18,   87.84,   91.5 ,   95.16,   98.82,\n",
       "         102.48,  106.14,  109.8 ,  113.46,  117.12,  120.78,  124.44,\n",
       "         128.1 ,  131.76,  135.42,  139.08,  142.74,  146.4 ,  150.06,\n",
       "         153.72,  157.38,  161.04,  164.7 ,  168.36,  172.02,  175.68,\n",
       "         179.34,  183.  ]),\n",
       " <a list of 50 Patch objects>)"
      ]
     },
     "execution_count": 8,
     "metadata": {},
     "output_type": "execute_result"
    },
    {
     "data": {
      "image/png": "[encoded data removed]",
      "text/plain": [
       "<matplotlib.figure.Figure at 0x7fba34da7da0>"
      ]
     },
     "metadata": {},
     "output_type": "display_data"
    }
   ],
   "source": [
    "sanitation['Completion Date'] = pd.to_datetime(sanitation['Completion Date'], format='%m/%d/%Y')\n",
    "sanitation['Creation Date'] = pd.to_datetime(sanitation['Creation Date'], format='%m/%d/%Y')\n",
    "sanitation['response_time'] = sanitation['Completion Date'] - sanitation['Creation Date']\n",
    "sanitation['response_time'] = (sanitation['response_time'] / np.timedelta64(1, 'D')).astype(float)\n",
    "\n",
    "plt.hist(sanitation['response_time'].dropna(), bins=50)"
   ]
  },
  {
   "cell_type": "code",
   "execution_count": null,
   "metadata": {
    "collapsed": true
   },
   "outputs": [],
   "source": []
  },
  {
   "cell_type": "markdown",
   "metadata": {
    "collapsed": false
   },
   "source": [
    "Do you see any signs of errors or noise in the data? "
   ]
  },
  {
   "cell_type": "markdown",
   "metadata": {},
   "source": [
    "### Adding Time based features\n",
    "Extract the hour of day, day of week, month of year from the 311 request dates. The pandas to_datetime function may be helpful for this.\n",
    "Do the 311 request frequencies look the same by day of week/month of year? Do 311 requests filed on weekends take longer to complete than those filed on weekdays? Perform the same analysis for each different request type as well.\n",
    "Report any interesting/surprising findings."
   ]
  },
  {
   "cell_type": "code",
   "execution_count": 31,
   "metadata": {
    "collapsed": false
   },
   "outputs": [
    {
     "data": {
      "text/plain": [
       "array([[<matplotlib.axes.AxesSubplot object at 0x7fba32aa2198>,\n",
       "        <matplotlib.axes.AxesSubplot object at 0x7fba32a59cf8>,\n",
       "        <matplotlib.axes.AxesSubplot object at 0x7fba32c65940>],\n",
       "       [<matplotlib.axes.AxesSubplot object at 0x7fba329e51d0>,\n",
       "        <matplotlib.axes.AxesSubplot object at 0x7fba329ad278>,\n",
       "        <matplotlib.axes.AxesSubplot object at 0x7fba3296d6a0>],\n",
       "       [<matplotlib.axes.AxesSubplot object at 0x7fba3293c048>,\n",
       "        <matplotlib.axes.AxesSubplot object at 0x7fba328f2be0>,\n",
       "        <matplotlib.axes.AxesSubplot object at 0x7fba328bbc88>]], dtype=object)"
      ]
     },
     "execution_count": 31,
     "metadata": {},
     "output_type": "execute_result"
    },
    {
     "data": {
      "image/png": "[encoded data removed]",
      "text/plain": [
       "<matplotlib.figure.Figure at 0x7fba32afe780>"
      ]
     },
     "metadata": {},
     "output_type": "display_data"
    }
   ],
   "source": [
    "# frequency histograms by day of week\n",
    "graffiti['Creation Date'] = pd.to_datetime(graffiti['Creation Date'])\n",
    "graffiti['Receipt date weekday'] = graffiti['Creation Date'].dt.weekday\n",
    "graffiti['response_time'].hist(by=graffiti['Receipt date weekday'])"
   ]
  },
  {
   "cell_type": "code",
   "execution_count": 42,
   "metadata": {
    "collapsed": false
   },
   "outputs": [
    {
     "data": {
      "text/plain": [
       "0    20570\n",
       "1    23825\n",
       "2    24262\n",
       "3    23017\n",
       "4    20864\n",
       "5     3626\n",
       "6     4297\n",
       "Name: Receipt date weekday, dtype: int64"
      ]
     },
     "execution_count": 42,
     "metadata": {},
     "output_type": "execute_result"
    }
   ],
   "source": [
    "# frequency counts by day of week\n",
    "g_freq_ct_weekday = graffiti['Receipt date weekday'].value_counts().sort_index()\n",
    "g_freq_ct_weekday"
   ]
  },
  {
   "cell_type": "code",
   "execution_count": 43,
   "metadata": {
    "collapsed": false
   },
   "outputs": [
    {
     "data": {
      "text/plain": [
       "Receipt date weekday\n",
       "0    0.508751\n",
       "1    0.449234\n",
       "2    0.392795\n",
       "3    0.412434\n",
       "4    0.934768\n",
       "5    2.342802\n",
       "6    1.334885\n",
       "Name: response_time, dtype: float64"
      ]
     },
     "execution_count": 43,
     "metadata": {},
     "output_type": "execute_result"
    }
   ],
   "source": [
    "# average response time by day of week\n",
    "g_avg_response_time_weekday = pd.pivot_table(graffiti, values='response_time', index=['Receipt date weekday'], aggfunc=np.mean).sort_index()\n",
    "g_avg_response_time_weekday"
   ]
  },
  {
   "cell_type": "code",
   "execution_count": 44,
   "metadata": {
    "collapsed": false
   },
   "outputs": [
    {
     "data": {
      "text/html": [
       "<div>\n",
       "<table border=\"1\" class=\"dataframe\">\n",
       "  <thead>\n",
       "    <tr style=\"text-align: right;\">\n",
       "      <th></th>\n",
       "      <th>count of requests</th>\n",
       "      <th>avg response time</th>\n",
       "    </tr>\n",
       "    <tr>\n",
       "      <th>Receipt date weekday</th>\n",
       "      <th></th>\n",
       "      <th></th>\n",
       "    </tr>\n",
       "  </thead>\n",
       "  <tbody>\n",
       "    <tr>\n",
       "      <th>0</th>\n",
       "      <td>20570</td>\n",
       "      <td>0.508751</td>\n",
       "    </tr>\n",
       "    <tr>\n",
       "      <th>1</th>\n",
       "      <td>23825</td>\n",
       "      <td>0.449234</td>\n",
       "    </tr>\n",
       "    <tr>\n",
       "      <th>2</th>\n",
       "      <td>24262</td>\n",
       "      <td>0.392795</td>\n",
       "    </tr>\n",
       "    <tr>\n",
       "      <th>3</th>\n",
       "      <td>23017</td>\n",
       "      <td>0.412434</td>\n",
       "    </tr>\n",
       "    <tr>\n",
       "      <th>4</th>\n",
       "      <td>20864</td>\n",
       "      <td>0.934768</td>\n",
       "    </tr>\n",
       "    <tr>\n",
       "      <th>5</th>\n",
       "      <td>3626</td>\n",
       "      <td>2.342802</td>\n",
       "    </tr>\n",
       "    <tr>\n",
       "      <th>6</th>\n",
       "      <td>4297</td>\n",
       "      <td>1.334885</td>\n",
       "    </tr>\n",
       "  </tbody>\n",
       "</table>\n",
       "</div>"
      ],
      "text/plain": [
       "                      count of requests  avg response time\n",
       "Receipt date weekday                                      \n",
       "0                                 20570           0.508751\n",
       "1                                 23825           0.449234\n",
       "2                                 24262           0.392795\n",
       "3                                 23017           0.412434\n",
       "4                                 20864           0.934768\n",
       "5                                  3626           2.342802\n",
       "6                                  4297           1.334885"
      ]
     },
     "execution_count": 44,
     "metadata": {},
     "output_type": "execute_result"
    }
   ],
   "source": [
    "# Summary by day of week\n",
    "g_weekday = pd.concat([g_freq_ct_weekday,g_avg_response_time_weekday], axis=1)\n",
    "g_weekday.columns = ['count of requests', 'avg response time']\n",
    "g_weekday"
   ]
  },
  {
   "cell_type": "markdown",
   "metadata": {},
   "source": [
    "Observations by weekday:  \n",
    "Fewer requests come in on the weekends.  \n",
    "Average response time is much higher on weekends (Friday through Sunday), as expected. Average response time is fastest on Wednesdays and Thursdays."
   ]
  },
  {
   "cell_type": "code",
   "execution_count": 46,
   "metadata": {
    "collapsed": false,
    "scrolled": true
   },
   "outputs": [
    {
     "data": {
      "text/plain": [
       "1      9446\n",
       "2     10184\n",
       "3     10572\n",
       "4     10711\n",
       "5     10982\n",
       "6     10349\n",
       "7      9591\n",
       "8     11863\n",
       "9      9312\n",
       "10     9580\n",
       "11     9743\n",
       "12     8128\n",
       "Name: Receipt month, dtype: int64"
      ]
     },
     "execution_count": 46,
     "metadata": {},
     "output_type": "execute_result"
    }
   ],
   "source": [
    "# frequency counts by month\n",
    "graffiti['Receipt month'] = graffiti['Creation Date'].dt.month\n",
    "g_freq_ct_month = graffiti['Receipt month'].value_counts().sort_index()\n",
    "g_freq_ct_month"
   ]
  },
  {
   "cell_type": "code",
   "execution_count": 47,
   "metadata": {
    "collapsed": false,
    "scrolled": true
   },
   "outputs": [
    {
     "data": {
      "text/plain": [
       "Receipt month\n",
       "1     0.462100\n",
       "2     0.510801\n",
       "3     0.651816\n",
       "4     0.599384\n",
       "5     0.593608\n",
       "6     0.640738\n",
       "7     0.830883\n",
       "8     0.585855\n",
       "9     0.735610\n",
       "10    0.671921\n",
       "11    0.549625\n",
       "12    0.533465\n",
       "Name: response_time, dtype: float64"
      ]
     },
     "execution_count": 47,
     "metadata": {},
     "output_type": "execute_result"
    }
   ],
   "source": [
    "# average response time by month\n",
    "g_avg_response_time_month = pd.pivot_table(graffiti, values='response_time', index=['Receipt month'], aggfunc=np.mean).sort_index()\n",
    "g_avg_response_time_month"
   ]
  },
  {
   "cell_type": "code",
   "execution_count": 48,
   "metadata": {
    "collapsed": false,
    "scrolled": true
   },
   "outputs": [
    {
     "data": {
      "text/html": [
       "<div>\n",
       "<table border=\"1\" class=\"dataframe\">\n",
       "  <thead>\n",
       "    <tr style=\"text-align: right;\">\n",
       "      <th></th>\n",
       "      <th>count of requests</th>\n",
       "      <th>avg response time</th>\n",
       "    </tr>\n",
       "    <tr>\n",
       "      <th>Receipt month</th>\n",
       "      <th></th>\n",
       "      <th></th>\n",
       "    </tr>\n",
       "  </thead>\n",
       "  <tbody>\n",
       "    <tr>\n",
       "      <th>1</th>\n",
       "      <td>9446</td>\n",
       "      <td>0.462100</td>\n",
       "    </tr>\n",
       "    <tr>\n",
       "      <th>2</th>\n",
       "      <td>10184</td>\n",
       "      <td>0.510801</td>\n",
       "    </tr>\n",
       "    <tr>\n",
       "      <th>3</th>\n",
       "      <td>10572</td>\n",
       "      <td>0.651816</td>\n",
       "    </tr>\n",
       "    <tr>\n",
       "      <th>4</th>\n",
       "      <td>10711</td>\n",
       "      <td>0.599384</td>\n",
       "    </tr>\n",
       "    <tr>\n",
       "      <th>5</th>\n",
       "      <td>10982</td>\n",
       "      <td>0.593608</td>\n",
       "    </tr>\n",
       "    <tr>\n",
       "      <th>6</th>\n",
       "      <td>10349</td>\n",
       "      <td>0.640738</td>\n",
       "    </tr>\n",
       "    <tr>\n",
       "      <th>7</th>\n",
       "      <td>9591</td>\n",
       "      <td>0.830883</td>\n",
       "    </tr>\n",
       "    <tr>\n",
       "      <th>8</th>\n",
       "      <td>11863</td>\n",
       "      <td>0.585855</td>\n",
       "    </tr>\n",
       "    <tr>\n",
       "      <th>9</th>\n",
       "      <td>9312</td>\n",
       "      <td>0.735610</td>\n",
       "    </tr>\n",
       "    <tr>\n",
       "      <th>10</th>\n",
       "      <td>9580</td>\n",
       "      <td>0.671921</td>\n",
       "    </tr>\n",
       "    <tr>\n",
       "      <th>11</th>\n",
       "      <td>9743</td>\n",
       "      <td>0.549625</td>\n",
       "    </tr>\n",
       "    <tr>\n",
       "      <th>12</th>\n",
       "      <td>8128</td>\n",
       "      <td>0.533465</td>\n",
       "    </tr>\n",
       "  </tbody>\n",
       "</table>\n",
       "</div>"
      ],
      "text/plain": [
       "               count of requests  avg response time\n",
       "Receipt month                                      \n",
       "1                           9446           0.462100\n",
       "2                          10184           0.510801\n",
       "3                          10572           0.651816\n",
       "4                          10711           0.599384\n",
       "5                          10982           0.593608\n",
       "6                          10349           0.640738\n",
       "7                           9591           0.830883\n",
       "8                          11863           0.585855\n",
       "9                           9312           0.735610\n",
       "10                          9580           0.671921\n",
       "11                          9743           0.549625\n",
       "12                          8128           0.533465"
      ]
     },
     "execution_count": 48,
     "metadata": {},
     "output_type": "execute_result"
    }
   ],
   "source": [
    "# Summary by month\n",
    "g_month = pd.concat([g_freq_ct_month,g_avg_response_time_month], axis=1)\n",
    "g_month.columns = ['count of requests', 'avg response time']\n",
    "g_month"
   ]
  },
  {
   "cell_type": "markdown",
   "metadata": {},
   "source": [
    "Observations by month:   \n",
    "Fewer requests come in during fall and winter months.  "
   ]
  },
  {
   "cell_type": "markdown",
   "metadata": {},
   "source": [
    "### Time functions in pandas and pys thon\n",
    "\n",
    "You'll be manipulating dates quite a bit in python so you should be comfortable with turning date strings into datetime data types and then manipulating the dates. Some functions to explore are:\n",
    "\n",
    "* "
   ]
  },
  {
   "cell_type": "markdown",
   "metadata": {},
   "source": [
    "### Visualizing 311 request hotspots\n",
    "In HW1 we learned a bit about where 311 requests occurred most frequently. Let's get a better sense of this using a visualization of 311 requests by location. We'll need to download Chicago zipcode boundaries from https://data.cityofchicago.org/Facilities-Geographic-Boundaries/Boundaries-ZIP-Codes/gdcf-axmw\n",
    "and the geopandas library. If you don't already have geopandas installed, install it via:"
   ]
  },
  {
   "cell_type": "code",
   "execution_count": 2,
   "metadata": {
    "collapsed": false
   },
   "outputs": [
    {
     "ename": "SyntaxError",
     "evalue": "invalid syntax (<ipython-input-2-930f8167ec11>, line 2)",
     "output_type": "error",
     "traceback": [
      "\u001b[0;36m  File \u001b[0;32m\"<ipython-input-2-930f8167ec11>\"\u001b[0;36m, line \u001b[0;32m2\u001b[0m\n\u001b[0;31m    sudo pip install geopandas\u001b[0m\n\u001b[0m           ^\u001b[0m\n\u001b[0;31mSyntaxError\u001b[0m\u001b[0;31m:\u001b[0m invalid syntax\n"
     ]
    }
   ],
   "source": [
    "# if you're on your own machine\n",
    "sudo pip3 install geopandas\n",
    "\n",
    "# if you're on a CSIL machine\n",
    "pip3 install --user geopandas"
   ]
  },
  {
   "cell_type": "markdown",
   "metadata": {},
   "source": [
    "Here is a quick demo of the geopandas plotting which should help you get started with plotting Chicago zipcode areas:"
   ]
  },
  {
   "cell_type": "code",
   "execution_count": null,
   "metadata": {
    "collapsed": false,
    "scrolled": true
   },
   "outputs": [],
   "source": [
    "import geopandas as gpd\n",
    "fname = 'Boundaries - ZIP Codes.geojson'\n",
    "chicago = gpd.read_file(fname)\n",
    "chicago.head()"
   ]
  },
  {
   "cell_type": "code",
   "execution_count": null,
   "metadata": {
    "collapsed": false
   },
   "outputs": [],
   "source": [
    "# plot a heatmap based on the zipcode size\n",
    "chicago.plot(column='shape_area', colormap='OrRd')"
   ]
  },
  {
   "cell_type": "markdown",
   "metadata": {},
   "source": [
    "Aggregate the 311 requests by zipcode and visualize request frequency, average request completion time by location, and any other things you find interesting. Do the same for some of the demograpic data(IE: median household income by zipcode, etc). Report any other interesting/surprising findings."
   ]
  },
  {
   "cell_type": "markdown",
   "metadata": {},
   "source": [
    "### Potentially helpful links\n",
    "http://pandas.pydata.org/pandas-docs/stable/timeseries.html\n",
    "\n",
    "http://pandas.pydata.org/pandas-docs/stable/generated/pandas.DataFrame.groupby.html\n",
    "\n",
    "http://geopandas.org/mapping.html\n",
    "\n",
    "http://geopandas.org/mergingdata.html"
   ]
  }
 ],
 "metadata": {
  "kernelspec": {
   "display_name": "Python 3",
   "language": "python",
   "name": "python3"
  },
  "language_info": {
   "codemirror_mode": {
    "name": "ipython",
    "version": 3
   },
   "file_extension": ".py",
   "mimetype": "text/x-python",
   "name": "python",
   "nbconvert_exporter": "python",
   "pygments_lexer": "ipython3",
   "version": "3.4.3"
  }
 },
 "nbformat": 4,
 "nbformat_minor": 2
}
